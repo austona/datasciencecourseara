{
  "metadata": {
    "kernelspec": {
      "name": "python",
      "display_name": "Python (Pyodide)",
      "language": "python"
    },
    "language_info": {
      "codemirror_mode": {
        "name": "python",
        "version": 3
      },
      "file_extension": ".py",
      "mimetype": "text/x-python",
      "name": "python",
      "nbconvert_exporter": "python",
      "pygments_lexer": "ipython3",
      "version": "3.8"
    }
  },
  "nbformat_minor": 5,
  "nbformat": 4,
  "cells": [
    {
      "id": "7f591638-5def-40f0-991e-5889b2fd84ce",
      "cell_type": "markdown",
      "source": "# Data Science Tools and Ecosystem",
      "metadata": {}
    },
    {
      "id": "d02ab2e6-acda-4451-b2e2-527114cd9fbc",
      "cell_type": "markdown",
      "source": "In this notebook, Data Science Tools and Ecosystem are summarized.",
      "metadata": {}
    },
    {
      "id": "66b00ff1-8012-49a8-b8d2-d3a83b4c3525",
      "cell_type": "markdown",
      "source": "Some of the popular languages that Data Scientists use are:\n1) Python\n2) R\n3) Julia\n",
      "metadata": {}
    },
    {
      "id": "2316d777-fca3-4609-b375-16b3a1e08feb",
      "cell_type": "markdown",
      "source": "Some of the commonly used libraries used by Data Scientists include:\n1. ggplot\n2. NumPy\n3. Plotly",
      "metadata": {}
    },
    {
      "id": "df4a22eb-e029-4278-8c50-1706b5e47c66",
      "cell_type": "markdown",
      "source": "Data Science tools: \n1. Apache Spark \n2. Jupyter Notebook\n3. TensorFlow",
      "metadata": {}
    },
    {
      "id": "4ded5254-6214-4090-b38b-b8932a248a2c",
      "cell_type": "markdown",
      "source": "Below are a few examples of evaluating arithmetic expressions in Python: \n- a = 1 + 2 \n- b = 5 - 3\n- c = a * b\n\n",
      "metadata": {}
    },
    {
      "id": "a441bf40-82f2-4b8f-8590-dc6e5e0c1636",
      "cell_type": "code",
      "source": "# This a simple arithmetic expression to mutiply then add integers\n(3*4)+5",
      "metadata": {
        "trusted": true
      },
      "outputs": [
        {
          "execution_count": 2,
          "output_type": "execute_result",
          "data": {
            "text/plain": "17"
          },
          "metadata": {}
        }
      ],
      "execution_count": 2
    },
    {
      "id": "6e21d3ec-c72c-41c3-9972-3f5e34194c09",
      "cell_type": "code",
      "source": "# This will convert 200 minutes to hours by diving by 60\n200/60",
      "metadata": {
        "trusted": true
      },
      "outputs": [
        {
          "execution_count": 3,
          "output_type": "execute_result",
          "data": {
            "text/plain": "3.3333333333333335"
          },
          "metadata": {}
        }
      ],
      "execution_count": 3
    },
    {
      "id": "d697e6f0-b4d1-4e75-8f5a-e6cbdfa47d22",
      "cell_type": "markdown",
      "source": "Objectives: \n- List popular languages for data science\n- List popular packages for data science\n- list popular tools for data science\n- understand how Git works\n- learn to create a Jupyter Notebook",
      "metadata": {}
    },
    {
      "id": "aaad4658-f53d-4561-9c34-d207a78f1c14",
      "cell_type": "markdown",
      "source": "## Author \nAnton Benz",
      "metadata": {}
    },
    {
      "id": "c7a2e3d2-fce9-48bc-bab7-81e12830a693",
      "cell_type": "code",
      "source": "",
      "metadata": {
        "trusted": true
      },
      "outputs": [],
      "execution_count": null
    }
  ]
}